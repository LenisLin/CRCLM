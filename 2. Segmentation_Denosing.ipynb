{
 "cells": [
  {
   "cell_type": "markdown",
   "metadata": {},
   "source": [
    "## Using Dice to segmentation single cell\n",
    "\n",
    "```{bash}\n",
    "DATAPATH=\"/mnt/data/lyx/IMC/batch2/unet/\" \n",
    "mkdir \"$DATAPATH\"\n",
    "```\n",
    "\n",
    "### download model\n",
    "```{bash}\n",
    "mkdir -p \"$DATAPATH\"/model\n",
    "wget https://ndownloader.figshare.com/files/28301040 -O \"$DATAPATH\"model/02-15-20-14_threshold-99.7_withAugnoise-0.5_model_80.pth\n",
    "```\n",
    "\n",
    "### preprocess image data\n",
    "```{bash}\n",
    "find /mnt/data/lyx/IMC/batch2/fullstacks/ -type f -size -4M\n",
    "ls -l  | grep \"^-\" | wc -l\n",
    "\n",
    "python /mnt/data/lyx/IMC/Dice-XMBD/process/1_preprocess_img.py --process pre --workdir $DATAPATH --panel \"/mnt/data/lyx/IMC/batch2/IMC_CRC_panel_Batch2.csv\" --imgsuf '_fullstacks.tiff' --imgdir \"/mnt/data/lyx/IMC/batch2/fullstacks/\" --channel_n \"channel_n\" --channel_m \"channel_m\"\n",
    "```\n",
    "\n",
    "### train a model (optional)\n",
    "```{bash}\n",
    "python ./main_probability.py --action train --epoch 30 --workdir \"$DATAPATH\"BRCA1 --bs 2\n",
    "```\n",
    "\n",
    "### predict pixel probability maps by a trained model\n",
    "```{bash}\n",
    "python /mnt/data/lyx/IMC/Dice-XMBD/src/main_probability.py --action predict --weight=\"${DATAPATH}model/02-15-20-14_threshold-99.7_withAugnoise-0.5_model_80.pth\" --preddir \"${DATAPATH}\" --testname \"crop512_combined2_image\"\n",
    "```\n",
    "\n",
    "### generate cell masks by using Cellprofiler pipeline ('/workspace/process/2_generate_cellmask.cpproj')\n",
    "\n",
    "### merge figure back (cell mask) (output from CellProfiler)\n",
    "```{bash}\n",
    "python /mnt/data/lyx/IMC/Dice-XMBD/process/1_preprocess_img.py --process post --workdir $DATAPATH --propn \"cellmask\" --mergetype 'cmask' --outdir 'ori_cellmask'\n",
    "python /mnt/data/lyx/IMC/Dice-XMBD/process/1_preprocess_img.py --process post --workdir $DATAPATH --propn \"cellmask\" --mergetype 'cmask_tight' --outdir 'ori_cellmask_tight' (another mode, refer to readme)\n",
    "```\n",
    "### extract single cell protein\n",
    "#### (if using IMCell to denose, skip this step)\n",
    "```{bash}\n",
    "python3 /mnt/data/lyx/IMC/Dice-XMBD/process/3_imc_extract_pro.py --workdir $DATAPATH --imgdir \"/mnt/data/lyx/IMC/fullstacks/\" --maskpath \"$DATAPATH\"predictionProbability/ori_cellmask/ --name 'ori' --imgsuf '_fullstacks.tiff' --masksuf '_pred_Probabilities_cell_mask.tiff' --panel \"/mnt/data/lyx/IMC/IMC_CRC_panel.csv\" --match 'F'\n",
    "\n",
    "python3 /mnt/public/temp/xiaoxu/IMC/src/unet/3_imc_extract_pro.py --workdir $DATAPATH --imgdir '/mnt/public/temp/xiaoxu/IMC/chang/analysis_0401/fullstacks/' --maskpath \"$DATAPATH\"predictionProbability/ori_cellmask_tight/ --name 'ori' --imgsuf '_fullstacks.tiff' --masksuf '_pred_Probabilities_cell_mask_tight.tiff' --panel '/mnt/public/temp/xiaoxu/IMC/chang/IMC_CRC_panel.csv' --match 'F'\n",
    "```"
   ]
  },
  {
   "cell_type": "markdown",
   "metadata": {},
   "source": [
    "## IMCell Denoise\n",
    "\n",
    "#### IMCell main and plot\n",
    "```{bash}\n",
    "DATAPATH=\"/mnt/data/lyx/IMC/batch1/\"\n",
    "\n",
    "python /mnt/data/lyx/IMC/IMCell/main.py --workdir $DATAPATH  --img_path \"$DATAPATH\"fullstacks --mask_path \"$DATAPATH\"unet/predictionProbability/ori_cellmask --panel \"$DATAPATH\"IMC_CRC_panel_Batch1.csv --qc \"$DATAPATH\"IMC_CRC_QC_Batch1.csv --times 1000 --fdr_value 0.01 --pre 1 --cellinfo 1 --permutation 1 --denoise 1 --norm 1\n",
    "```"
   ]
  }
 ],
 "metadata": {
  "kernelspec": {
   "display_name": "Python 3.9.0 ('IMC': conda)",
   "language": "python",
   "name": "python3"
  },
  "language_info": {
   "name": "python",
   "version": "3.9.0"
  },
  "orig_nbformat": 4,
  "vscode": {
   "interpreter": {
    "hash": "b295341607e0006a3e02a70df2079a24b4efad1a161c8cd0a2db20703591af2b"
   }
  }
 },
 "nbformat": 4,
 "nbformat_minor": 2
}
